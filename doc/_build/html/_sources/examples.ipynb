{
 "cells": [
  {
   "cell_type": "markdown",
   "metadata": {},
   "source": [
    "# Examples"
   ]
  },
  {
   "cell_type": "code",
   "execution_count": 2,
   "metadata": {},
   "outputs": [],
   "source": [
    "import altair_ally as aly\n",
    "from vega_datasets import data\n",
    "\n",
    "# aly.alt.data_transformers.enable('data_server')\n",
    "aly.alt.data_transformers.disable_max_rows()\n",
    "\n",
    "movies = data.movies().sample(400, random_state=234890)"
   ]
  },
  {
   "cell_type": "markdown",
   "metadata": {},
   "source": [
    "## Missing values"
   ]
  },
  {
   "cell_type": "code",
   "execution_count": 2,
   "metadata": {},
   "outputs": [
    {
     "data": {
      "text/html": [
       "\n",
       "<div id=\"altair-viz-dadc5bef280e45f7926f1bfdb092a3f9\"></div>\n",
       "<script type=\"text/javascript\">\n",
       "  (function(spec, embedOpt){\n",
       "    let outputDiv = document.currentScript.previousElementSibling;\n",
       "    if (outputDiv.id !== \"altair-viz-dadc5bef280e45f7926f1bfdb092a3f9\") {\n",
       "      outputDiv = document.getElementById(\"altair-viz-dadc5bef280e45f7926f1bfdb092a3f9\");\n",
       "    }\n",
       "    const paths = {\n",
       "      \"vega\": \"https://cdn.jsdelivr.net/npm//vega@5?noext\",\n",
       "      \"vega-lib\": \"https://cdn.jsdelivr.net/npm//vega-lib?noext\",\n",
       "      \"vega-lite\": \"https://cdn.jsdelivr.net/npm//vega-lite@4.8.1?noext\",\n",
       "      \"vega-embed\": \"https://cdn.jsdelivr.net/npm//vega-embed@6?noext\",\n",
       "    };\n",
       "\n",
       "    function loadScript(lib) {\n",
       "      return new Promise(function(resolve, reject) {\n",
       "        var s = document.createElement('script');\n",
       "        s.src = paths[lib];\n",
       "        s.async = true;\n",
       "        s.onload = () => resolve(paths[lib]);\n",
       "        s.onerror = () => reject(`Error loading script: ${paths[lib]}`);\n",
       "        document.getElementsByTagName(\"head\")[0].appendChild(s);\n",
       "      });\n",
       "    }\n",
       "\n",
       "    function showError(err) {\n",
       "      outputDiv.innerHTML = `<div class=\"error\" style=\"color:red;\">${err}</div>`;\n",
       "      throw err;\n",
       "    }\n",
       "\n",
       "    function displayChart(vegaEmbed) {\n",
       "      vegaEmbed(outputDiv, spec, embedOpt)\n",
       "        .catch(err => showError(`Javascript Error: ${err.message}<br>This usually means there's a typo in your chart specification. See the javascript console for the full traceback.`));\n",
       "    }\n",
       "\n",
       "    if(typeof define === \"function\" && define.amd) {\n",
       "      requirejs.config({paths});\n",
       "      require([\"vega-embed\"], displayChart, err => showError(`Error loading script: ${err.message}`));\n",
       "    } else if (typeof vegaEmbed === \"function\") {\n",
       "      displayChart(vegaEmbed);\n",
       "    } else {\n",
       "      loadScript(\"vega\")\n",
       "        .then(() => loadScript(\"vega-lite\"))\n",
       "        .then(() => loadScript(\"vega-embed\"))\n",
       "        .catch(showError)\n",
       "        .then(() => displayChart(vegaEmbed));\n",
       "    }\n",
       "  })({\"config\": {\"view\": {\"continuousWidth\": 400, \"continuousHeight\": 300, \"strokeWidth\": 0}}, \"hconcat\": [{\"data\": {\"url\": \"http://localhost:24101/0c0f1423709d938b2b6a2030f57eeb42.json\"}, \"mark\": {\"type\": \"rect\", \"height\": 17}, \"encoding\": {\"color\": {\"type\": \"nominal\", \"field\": \"value\", \"legend\": {\"offset\": -13, \"orient\": \"top\"}, \"scale\": {\"range\": [\"#dde8f1\", \"steelblue\"]}, \"sort\": [false, true], \"title\": null}, \"stroke\": {\"type\": \"nominal\", \"field\": \"value\", \"legend\": null, \"scale\": {\"range\": [\"#dde8f1\", \"steelblue\"]}, \"sort\": [false, true]}, \"x\": {\"type\": \"ordinal\", \"axis\": null, \"field\": \"index\"}, \"y\": {\"type\": \"nominal\", \"field\": \"variable\", \"sort\": [\"Production Budget\", \"US Gross\", \"Worldwide Gross\", \"IMDB Rating\", \"IMDB Votes\", \"Distributor\", \"Major Genre\", \"Source\", \"Creative Type\", \"MPAA Rating\", \"Rotten Tomatoes Rating\", \"Director\", \"Running Time min\", \"US DVD Sales\"], \"title\": null}}, \"selection\": {\"selector001\": {\"type\": \"interval\", \"encodings\": [\"x\"]}}, \"title\": \"Individual NaNs\", \"width\": 700.0}, {\"layer\": [{\"mark\": {\"type\": \"bar\", \"color\": \"steelblue\", \"height\": 17}, \"encoding\": {\"x\": {\"type\": \"quantitative\", \"aggregate\": \"count\", \"axis\": null, \"scale\": {\"domain\": [0, 332]}}, \"y\": {\"type\": \"nominal\", \"axis\": {\"grid\": false, \"labels\": false, \"ticks\": false, \"title\": \"\"}, \"field\": \"variable\", \"sort\": [\"Production Budget\", \"US Gross\", \"Worldwide Gross\", \"IMDB Rating\", \"IMDB Votes\", \"Distributor\", \"Major Genre\", \"Source\", \"Creative Type\", \"MPAA Rating\", \"Rotten Tomatoes Rating\", \"Director\", \"Running Time min\", \"US DVD Sales\"]}}, \"title\": \"NaN count\", \"width\": 100}, {\"mark\": {\"type\": \"text\", \"align\": \"left\", \"dx\": 2}, \"encoding\": {\"text\": {\"type\": \"quantitative\", \"aggregate\": \"count\"}, \"x\": {\"type\": \"quantitative\", \"aggregate\": \"count\", \"axis\": null, \"scale\": {\"domain\": [0, 332]}}, \"y\": {\"type\": \"nominal\", \"axis\": {\"grid\": false, \"labels\": false, \"ticks\": false, \"title\": \"\"}, \"field\": \"variable\", \"sort\": [\"Production Budget\", \"US Gross\", \"Worldwide Gross\", \"IMDB Rating\", \"IMDB Votes\", \"Distributor\", \"Major Genre\", \"Source\", \"Creative Type\", \"MPAA Rating\", \"Rotten Tomatoes Rating\", \"Director\", \"Running Time min\", \"US DVD Sales\"]}}, \"title\": \"NaN count\", \"width\": 100}], \"data\": {\"url\": \"http://localhost:24101/efda5a2e68509c7a81ffe1a34c115884.json\"}, \"transform\": [{\"filter\": {\"selection\": \"selector001\"}}]}], \"resolve\": {\"scale\": {\"y\": \"shared\"}}, \"$schema\": \"https://vega.github.io/schema/vega-lite/v4.8.1.json\"}, {\"mode\": \"vega-lite\"});\n",
       "</script>"
      ],
      "text/plain": [
       "alt.HConcatChart(...)"
      ]
     },
     "execution_count": 2,
     "metadata": {},
     "output_type": "execute_result"
    }
   ],
   "source": [
    "aly.nan(movies)"
   ]
  },
  {
   "cell_type": "markdown",
   "metadata": {},
   "source": [
    "## Univariate distributions"
   ]
  },
  {
   "cell_type": "code",
   "execution_count": 3,
   "metadata": {},
   "outputs": [
    {
     "data": {
      "text/html": [
       "\n",
       "<div id=\"altair-viz-067578aebcc7493fadc39fe799d747fe\"></div>\n",
       "<script type=\"text/javascript\">\n",
       "  (function(spec, embedOpt){\n",
       "    let outputDiv = document.currentScript.previousElementSibling;\n",
       "    if (outputDiv.id !== \"altair-viz-067578aebcc7493fadc39fe799d747fe\") {\n",
       "      outputDiv = document.getElementById(\"altair-viz-067578aebcc7493fadc39fe799d747fe\");\n",
       "    }\n",
       "    const paths = {\n",
       "      \"vega\": \"https://cdn.jsdelivr.net/npm//vega@5?noext\",\n",
       "      \"vega-lib\": \"https://cdn.jsdelivr.net/npm//vega-lib?noext\",\n",
       "      \"vega-lite\": \"https://cdn.jsdelivr.net/npm//vega-lite@4.8.1?noext\",\n",
       "      \"vega-embed\": \"https://cdn.jsdelivr.net/npm//vega-embed@6?noext\",\n",
       "    };\n",
       "\n",
       "    function loadScript(lib) {\n",
       "      return new Promise(function(resolve, reject) {\n",
       "        var s = document.createElement('script');\n",
       "        s.src = paths[lib];\n",
       "        s.async = true;\n",
       "        s.onload = () => resolve(paths[lib]);\n",
       "        s.onerror = () => reject(`Error loading script: ${paths[lib]}`);\n",
       "        document.getElementsByTagName(\"head\")[0].appendChild(s);\n",
       "      });\n",
       "    }\n",
       "\n",
       "    function showError(err) {\n",
       "      outputDiv.innerHTML = `<div class=\"error\" style=\"color:red;\">${err}</div>`;\n",
       "      throw err;\n",
       "    }\n",
       "\n",
       "    function displayChart(vegaEmbed) {\n",
       "      vegaEmbed(outputDiv, spec, embedOpt)\n",
       "        .catch(err => showError(`Javascript Error: ${err.message}<br>This usually means there's a typo in your chart specification. See the javascript console for the full traceback.`));\n",
       "    }\n",
       "\n",
       "    if(typeof define === \"function\" && define.amd) {\n",
       "      requirejs.config({paths});\n",
       "      require([\"vega-embed\"], displayChart, err => showError(`Error loading script: ${err.message}`));\n",
       "    } else if (typeof vegaEmbed === \"function\") {\n",
       "      displayChart(vegaEmbed);\n",
       "    } else {\n",
       "      loadScript(\"vega\")\n",
       "        .then(() => loadScript(\"vega-lite\"))\n",
       "        .then(() => loadScript(\"vega-embed\"))\n",
       "        .catch(showError)\n",
       "        .then(() => displayChart(vegaEmbed));\n",
       "    }\n",
       "  })({\"config\": {\"view\": {\"continuousWidth\": 400, \"continuousHeight\": 300}}, \"concat\": [{\"layer\": [{\"mark\": \"area\", \"encoding\": {\"color\": {\"type\": \"quantitative\", \"field\": \"\"}, \"x\": {\"type\": \"quantitative\", \"axis\": {\"grid\": false}, \"field\": \"IMDB Votes\"}, \"y\": {\"type\": \"quantitative\", \"field\": \"density\", \"title\": null}}, \"height\": 120, \"transform\": [{\"density\": \"IMDB Votes\", \"groupby\": [\":Q\"], \"minsteps\": 100, \"as\": [\"IMDB Votes\", \"density\"]}], \"width\": 185}, {\"mark\": {\"type\": \"tick\", \"color\": \"black\", \"height\": 7, \"opacity\": 0.3, \"yOffset\": 57}, \"encoding\": {\"x\": {\"type\": \"quantitative\", \"field\": \"IMDB Votes\"}}}]}, {\"layer\": [{\"mark\": \"area\", \"encoding\": {\"color\": {\"type\": \"quantitative\", \"field\": \"\"}, \"x\": {\"type\": \"quantitative\", \"axis\": {\"grid\": false}, \"field\": \"IMDB Rating\"}, \"y\": {\"type\": \"quantitative\", \"field\": \"density\", \"title\": null}}, \"height\": 120, \"transform\": [{\"density\": \"IMDB Rating\", \"groupby\": [\":Q\"], \"minsteps\": 100, \"as\": [\"IMDB Rating\", \"density\"]}], \"width\": 185}, {\"mark\": {\"type\": \"tick\", \"color\": \"black\", \"height\": 7, \"opacity\": 0.3, \"yOffset\": 57}, \"encoding\": {\"x\": {\"type\": \"quantitative\", \"field\": \"IMDB Rating\"}}}]}, {\"layer\": [{\"mark\": \"area\", \"encoding\": {\"color\": {\"type\": \"quantitative\", \"field\": \"\"}, \"x\": {\"type\": \"quantitative\", \"axis\": {\"grid\": false}, \"field\": \"Rotten Tomatoes Rating\"}, \"y\": {\"type\": \"quantitative\", \"field\": \"density\", \"title\": null}}, \"height\": 120, \"transform\": [{\"density\": \"Rotten Tomatoes Rating\", \"groupby\": [\":Q\"], \"minsteps\": 100, \"as\": [\"Rotten Tomatoes Rating\", \"density\"]}], \"width\": 185}, {\"mark\": {\"type\": \"tick\", \"color\": \"black\", \"height\": 7, \"opacity\": 0.3, \"yOffset\": 57}, \"encoding\": {\"x\": {\"type\": \"quantitative\", \"field\": \"Rotten Tomatoes Rating\"}}}]}, {\"layer\": [{\"mark\": \"area\", \"encoding\": {\"color\": {\"type\": \"quantitative\", \"field\": \"\"}, \"x\": {\"type\": \"quantitative\", \"axis\": {\"grid\": false}, \"field\": \"Running Time min\"}, \"y\": {\"type\": \"quantitative\", \"field\": \"density\", \"title\": null}}, \"height\": 120, \"transform\": [{\"density\": \"Running Time min\", \"groupby\": [\":Q\"], \"minsteps\": 100, \"as\": [\"Running Time min\", \"density\"]}], \"width\": 185}, {\"mark\": {\"type\": \"tick\", \"color\": \"black\", \"height\": 7, \"opacity\": 0.3, \"yOffset\": 57}, \"encoding\": {\"x\": {\"type\": \"quantitative\", \"field\": \"Running Time min\"}}}]}, {\"layer\": [{\"mark\": \"area\", \"encoding\": {\"color\": {\"type\": \"quantitative\", \"field\": \"\"}, \"x\": {\"type\": \"quantitative\", \"axis\": {\"grid\": false}, \"field\": \"Production Budget\"}, \"y\": {\"type\": \"quantitative\", \"field\": \"density\", \"title\": null}}, \"height\": 120, \"transform\": [{\"density\": \"Production Budget\", \"groupby\": [\":Q\"], \"minsteps\": 100, \"as\": [\"Production Budget\", \"density\"]}], \"width\": 185}, {\"mark\": {\"type\": \"tick\", \"color\": \"black\", \"height\": 7, \"opacity\": 0.3, \"yOffset\": 57}, \"encoding\": {\"x\": {\"type\": \"quantitative\", \"field\": \"Production Budget\"}}}]}, {\"layer\": [{\"mark\": \"area\", \"encoding\": {\"color\": {\"type\": \"quantitative\", \"field\": \"\"}, \"x\": {\"type\": \"quantitative\", \"axis\": {\"grid\": false}, \"field\": \"US DVD Sales\"}, \"y\": {\"type\": \"quantitative\", \"field\": \"density\", \"title\": null}}, \"height\": 120, \"transform\": [{\"density\": \"US DVD Sales\", \"groupby\": [\":Q\"], \"minsteps\": 100, \"as\": [\"US DVD Sales\", \"density\"]}], \"width\": 185}, {\"mark\": {\"type\": \"tick\", \"color\": \"black\", \"height\": 7, \"opacity\": 0.3, \"yOffset\": 57}, \"encoding\": {\"x\": {\"type\": \"quantitative\", \"field\": \"US DVD Sales\"}}}]}, {\"layer\": [{\"mark\": \"area\", \"encoding\": {\"color\": {\"type\": \"quantitative\", \"field\": \"\"}, \"x\": {\"type\": \"quantitative\", \"axis\": {\"grid\": false}, \"field\": \"Worldwide Gross\"}, \"y\": {\"type\": \"quantitative\", \"field\": \"density\", \"title\": null}}, \"height\": 120, \"transform\": [{\"density\": \"Worldwide Gross\", \"groupby\": [\":Q\"], \"minsteps\": 100, \"as\": [\"Worldwide Gross\", \"density\"]}], \"width\": 185}, {\"mark\": {\"type\": \"tick\", \"color\": \"black\", \"height\": 7, \"opacity\": 0.3, \"yOffset\": 57}, \"encoding\": {\"x\": {\"type\": \"quantitative\", \"field\": \"Worldwide Gross\"}}}]}, {\"layer\": [{\"mark\": \"area\", \"encoding\": {\"color\": {\"type\": \"quantitative\", \"field\": \"\"}, \"x\": {\"type\": \"quantitative\", \"axis\": {\"grid\": false}, \"field\": \"US Gross\"}, \"y\": {\"type\": \"quantitative\", \"field\": \"density\", \"title\": null}}, \"height\": 120, \"transform\": [{\"density\": \"US Gross\", \"groupby\": [\":Q\"], \"minsteps\": 100, \"as\": [\"US Gross\", \"density\"]}], \"width\": 185}, {\"mark\": {\"type\": \"tick\", \"color\": \"black\", \"height\": 7, \"opacity\": 0.3, \"yOffset\": 57}, \"encoding\": {\"x\": {\"type\": \"quantitative\", \"field\": \"US Gross\"}}}]}], \"columns\": 4, \"data\": {\"url\": \"http://localhost:24101/afa20f4165c8ba26cd86c7730da6c81f.json\"}, \"$schema\": \"https://vega.github.io/schema/vega-lite/v4.8.1.json\"}, {\"mode\": \"vega-lite\"});\n",
       "</script>"
      ],
      "text/plain": [
       "alt.ConcatChart(...)"
      ]
     },
     "execution_count": 3,
     "metadata": {},
     "output_type": "execute_result"
    }
   ],
   "source": [
    "aly.dist(movies)"
   ]
  },
  {
   "cell_type": "code",
   "execution_count": 4,
   "metadata": {},
   "outputs": [
    {
     "data": {
      "text/html": [
       "\n",
       "<div id=\"altair-viz-21996c05695e417abb0770715f09545e\"></div>\n",
       "<script type=\"text/javascript\">\n",
       "  (function(spec, embedOpt){\n",
       "    let outputDiv = document.currentScript.previousElementSibling;\n",
       "    if (outputDiv.id !== \"altair-viz-21996c05695e417abb0770715f09545e\") {\n",
       "      outputDiv = document.getElementById(\"altair-viz-21996c05695e417abb0770715f09545e\");\n",
       "    }\n",
       "    const paths = {\n",
       "      \"vega\": \"https://cdn.jsdelivr.net/npm//vega@5?noext\",\n",
       "      \"vega-lib\": \"https://cdn.jsdelivr.net/npm//vega-lib?noext\",\n",
       "      \"vega-lite\": \"https://cdn.jsdelivr.net/npm//vega-lite@4.8.1?noext\",\n",
       "      \"vega-embed\": \"https://cdn.jsdelivr.net/npm//vega-embed@6?noext\",\n",
       "    };\n",
       "\n",
       "    function loadScript(lib) {\n",
       "      return new Promise(function(resolve, reject) {\n",
       "        var s = document.createElement('script');\n",
       "        s.src = paths[lib];\n",
       "        s.async = true;\n",
       "        s.onload = () => resolve(paths[lib]);\n",
       "        s.onerror = () => reject(`Error loading script: ${paths[lib]}`);\n",
       "        document.getElementsByTagName(\"head\")[0].appendChild(s);\n",
       "      });\n",
       "    }\n",
       "\n",
       "    function showError(err) {\n",
       "      outputDiv.innerHTML = `<div class=\"error\" style=\"color:red;\">${err}</div>`;\n",
       "      throw err;\n",
       "    }\n",
       "\n",
       "    function displayChart(vegaEmbed) {\n",
       "      vegaEmbed(outputDiv, spec, embedOpt)\n",
       "        .catch(err => showError(`Javascript Error: ${err.message}<br>This usually means there's a typo in your chart specification. See the javascript console for the full traceback.`));\n",
       "    }\n",
       "\n",
       "    if(typeof define === \"function\" && define.amd) {\n",
       "      requirejs.config({paths});\n",
       "      require([\"vega-embed\"], displayChart, err => showError(`Error loading script: ${err.message}`));\n",
       "    } else if (typeof vegaEmbed === \"function\") {\n",
       "      displayChart(vegaEmbed);\n",
       "    } else {\n",
       "      loadScript(\"vega\")\n",
       "        .then(() => loadScript(\"vega-lite\"))\n",
       "        .then(() => loadScript(\"vega-embed\"))\n",
       "        .catch(showError)\n",
       "        .then(() => displayChart(vegaEmbed));\n",
       "    }\n",
       "  })({\"config\": {\"view\": {\"continuousWidth\": 400, \"continuousHeight\": 300}}, \"repeat\": [\"IMDB Votes\", \"IMDB Rating\", \"Rotten Tomatoes Rating\", \"Running Time min\", \"Production Budget\", \"US DVD Sales\", \"Worldwide Gross\", \"US Gross\"], \"spec\": {\"data\": {\"url\": \"http://localhost:24101/afa20f4165c8ba26cd86c7730da6c81f.json\"}, \"mark\": \"bar\", \"encoding\": {\"color\": {\"type\": \"quantitative\", \"field\": \"\"}, \"x\": {\"type\": \"quantitative\", \"bin\": true, \"field\": {\"repeat\": \"repeat\"}}, \"y\": {\"type\": \"quantitative\", \"aggregate\": \"count\", \"stack\": null, \"title\": \"\"}}, \"height\": 120, \"width\": 185}, \"columns\": 4, \"$schema\": \"https://vega.github.io/schema/vega-lite/v4.8.1.json\"}, {\"mode\": \"vega-lite\"});\n",
       "</script>"
      ],
      "text/plain": [
       "alt.RepeatChart(...)"
      ]
     },
     "execution_count": 4,
     "metadata": {},
     "output_type": "execute_result"
    }
   ],
   "source": [
    "aly.dist(movies, mark='bar')"
   ]
  },
  {
   "cell_type": "code",
   "execution_count": 5,
   "metadata": {},
   "outputs": [
    {
     "data": {
      "text/html": [
       "\n",
       "<div id=\"altair-viz-170f82b966934974801bf80dd51e7f1e\"></div>\n",
       "<script type=\"text/javascript\">\n",
       "  (function(spec, embedOpt){\n",
       "    let outputDiv = document.currentScript.previousElementSibling;\n",
       "    if (outputDiv.id !== \"altair-viz-170f82b966934974801bf80dd51e7f1e\") {\n",
       "      outputDiv = document.getElementById(\"altair-viz-170f82b966934974801bf80dd51e7f1e\");\n",
       "    }\n",
       "    const paths = {\n",
       "      \"vega\": \"https://cdn.jsdelivr.net/npm//vega@5?noext\",\n",
       "      \"vega-lib\": \"https://cdn.jsdelivr.net/npm//vega-lib?noext\",\n",
       "      \"vega-lite\": \"https://cdn.jsdelivr.net/npm//vega-lite@4.8.1?noext\",\n",
       "      \"vega-embed\": \"https://cdn.jsdelivr.net/npm//vega-embed@6?noext\",\n",
       "    };\n",
       "\n",
       "    function loadScript(lib) {\n",
       "      return new Promise(function(resolve, reject) {\n",
       "        var s = document.createElement('script');\n",
       "        s.src = paths[lib];\n",
       "        s.async = true;\n",
       "        s.onload = () => resolve(paths[lib]);\n",
       "        s.onerror = () => reject(`Error loading script: ${paths[lib]}`);\n",
       "        document.getElementsByTagName(\"head\")[0].appendChild(s);\n",
       "      });\n",
       "    }\n",
       "\n",
       "    function showError(err) {\n",
       "      outputDiv.innerHTML = `<div class=\"error\" style=\"color:red;\">${err}</div>`;\n",
       "      throw err;\n",
       "    }\n",
       "\n",
       "    function displayChart(vegaEmbed) {\n",
       "      vegaEmbed(outputDiv, spec, embedOpt)\n",
       "        .catch(err => showError(`Javascript Error: ${err.message}<br>This usually means there's a typo in your chart specification. See the javascript console for the full traceback.`));\n",
       "    }\n",
       "\n",
       "    if(typeof define === \"function\" && define.amd) {\n",
       "      requirejs.config({paths});\n",
       "      require([\"vega-embed\"], displayChart, err => showError(`Error loading script: ${err.message}`));\n",
       "    } else if (typeof vegaEmbed === \"function\") {\n",
       "      displayChart(vegaEmbed);\n",
       "    } else {\n",
       "      loadScript(\"vega\")\n",
       "        .then(() => loadScript(\"vega-lite\"))\n",
       "        .then(() => loadScript(\"vega-embed\"))\n",
       "        .catch(showError)\n",
       "        .then(() => displayChart(vegaEmbed));\n",
       "    }\n",
       "  })({\"config\": {\"view\": {\"continuousWidth\": 400, \"continuousHeight\": 300}}, \"concat\": [{\"layer\": [{\"mark\": \"area\", \"encoding\": {\"color\": {\"type\": \"nominal\", \"field\": \"MPAA Rating\"}, \"x\": {\"type\": \"quantitative\", \"axis\": {\"grid\": false}, \"field\": \"IMDB Votes\"}, \"y\": {\"type\": \"quantitative\", \"field\": \"density\", \"title\": null}}, \"height\": 120, \"transform\": [{\"density\": \"IMDB Votes\", \"groupby\": [\"MPAA Rating\"], \"minsteps\": 100, \"as\": [\"IMDB Votes\", \"density\"]}], \"width\": 185}, {\"mark\": {\"type\": \"tick\", \"color\": \"black\", \"height\": 7, \"opacity\": 0.3, \"yOffset\": 57}, \"encoding\": {\"x\": {\"type\": \"quantitative\", \"field\": \"IMDB Votes\"}}}]}, {\"layer\": [{\"mark\": \"area\", \"encoding\": {\"color\": {\"type\": \"nominal\", \"field\": \"MPAA Rating\"}, \"x\": {\"type\": \"quantitative\", \"axis\": {\"grid\": false}, \"field\": \"IMDB Rating\"}, \"y\": {\"type\": \"quantitative\", \"field\": \"density\", \"title\": null}}, \"height\": 120, \"transform\": [{\"density\": \"IMDB Rating\", \"groupby\": [\"MPAA Rating\"], \"minsteps\": 100, \"as\": [\"IMDB Rating\", \"density\"]}], \"width\": 185}, {\"mark\": {\"type\": \"tick\", \"color\": \"black\", \"height\": 7, \"opacity\": 0.3, \"yOffset\": 57}, \"encoding\": {\"x\": {\"type\": \"quantitative\", \"field\": \"IMDB Rating\"}}}]}, {\"layer\": [{\"mark\": \"area\", \"encoding\": {\"color\": {\"type\": \"nominal\", \"field\": \"MPAA Rating\"}, \"x\": {\"type\": \"quantitative\", \"axis\": {\"grid\": false}, \"field\": \"Rotten Tomatoes Rating\"}, \"y\": {\"type\": \"quantitative\", \"field\": \"density\", \"title\": null}}, \"height\": 120, \"transform\": [{\"density\": \"Rotten Tomatoes Rating\", \"groupby\": [\"MPAA Rating\"], \"minsteps\": 100, \"as\": [\"Rotten Tomatoes Rating\", \"density\"]}], \"width\": 185}, {\"mark\": {\"type\": \"tick\", \"color\": \"black\", \"height\": 7, \"opacity\": 0.3, \"yOffset\": 57}, \"encoding\": {\"x\": {\"type\": \"quantitative\", \"field\": \"Rotten Tomatoes Rating\"}}}]}, {\"layer\": [{\"mark\": \"area\", \"encoding\": {\"color\": {\"type\": \"nominal\", \"field\": \"MPAA Rating\"}, \"x\": {\"type\": \"quantitative\", \"axis\": {\"grid\": false}, \"field\": \"Running Time min\"}, \"y\": {\"type\": \"quantitative\", \"field\": \"density\", \"title\": null}}, \"height\": 120, \"transform\": [{\"density\": \"Running Time min\", \"groupby\": [\"MPAA Rating\"], \"minsteps\": 100, \"as\": [\"Running Time min\", \"density\"]}], \"width\": 185}, {\"mark\": {\"type\": \"tick\", \"color\": \"black\", \"height\": 7, \"opacity\": 0.3, \"yOffset\": 57}, \"encoding\": {\"x\": {\"type\": \"quantitative\", \"field\": \"Running Time min\"}}}]}, {\"layer\": [{\"mark\": \"area\", \"encoding\": {\"color\": {\"type\": \"nominal\", \"field\": \"MPAA Rating\"}, \"x\": {\"type\": \"quantitative\", \"axis\": {\"grid\": false}, \"field\": \"Production Budget\"}, \"y\": {\"type\": \"quantitative\", \"field\": \"density\", \"title\": null}}, \"height\": 120, \"transform\": [{\"density\": \"Production Budget\", \"groupby\": [\"MPAA Rating\"], \"minsteps\": 100, \"as\": [\"Production Budget\", \"density\"]}], \"width\": 185}, {\"mark\": {\"type\": \"tick\", \"color\": \"black\", \"height\": 7, \"opacity\": 0.3, \"yOffset\": 57}, \"encoding\": {\"x\": {\"type\": \"quantitative\", \"field\": \"Production Budget\"}}}]}, {\"layer\": [{\"mark\": \"area\", \"encoding\": {\"color\": {\"type\": \"nominal\", \"field\": \"MPAA Rating\"}, \"x\": {\"type\": \"quantitative\", \"axis\": {\"grid\": false}, \"field\": \"US DVD Sales\"}, \"y\": {\"type\": \"quantitative\", \"field\": \"density\", \"title\": null}}, \"height\": 120, \"transform\": [{\"density\": \"US DVD Sales\", \"groupby\": [\"MPAA Rating\"], \"minsteps\": 100, \"as\": [\"US DVD Sales\", \"density\"]}], \"width\": 185}, {\"mark\": {\"type\": \"tick\", \"color\": \"black\", \"height\": 7, \"opacity\": 0.3, \"yOffset\": 57}, \"encoding\": {\"x\": {\"type\": \"quantitative\", \"field\": \"US DVD Sales\"}}}]}, {\"layer\": [{\"mark\": \"area\", \"encoding\": {\"color\": {\"type\": \"nominal\", \"field\": \"MPAA Rating\"}, \"x\": {\"type\": \"quantitative\", \"axis\": {\"grid\": false}, \"field\": \"Worldwide Gross\"}, \"y\": {\"type\": \"quantitative\", \"field\": \"density\", \"title\": null}}, \"height\": 120, \"transform\": [{\"density\": \"Worldwide Gross\", \"groupby\": [\"MPAA Rating\"], \"minsteps\": 100, \"as\": [\"Worldwide Gross\", \"density\"]}], \"width\": 185}, {\"mark\": {\"type\": \"tick\", \"color\": \"black\", \"height\": 7, \"opacity\": 0.3, \"yOffset\": 57}, \"encoding\": {\"x\": {\"type\": \"quantitative\", \"field\": \"Worldwide Gross\"}}}]}, {\"layer\": [{\"mark\": \"area\", \"encoding\": {\"color\": {\"type\": \"nominal\", \"field\": \"MPAA Rating\"}, \"x\": {\"type\": \"quantitative\", \"axis\": {\"grid\": false}, \"field\": \"US Gross\"}, \"y\": {\"type\": \"quantitative\", \"field\": \"density\", \"title\": null}}, \"height\": 120, \"transform\": [{\"density\": \"US Gross\", \"groupby\": [\"MPAA Rating\"], \"minsteps\": 100, \"as\": [\"US Gross\", \"density\"]}], \"width\": 185}, {\"mark\": {\"type\": \"tick\", \"color\": \"black\", \"height\": 7, \"opacity\": 0.3, \"yOffset\": 57}, \"encoding\": {\"x\": {\"type\": \"quantitative\", \"field\": \"US Gross\"}}}]}], \"columns\": 4, \"data\": {\"url\": \"http://localhost:24101/afa20f4165c8ba26cd86c7730da6c81f.json\"}, \"$schema\": \"https://vega.github.io/schema/vega-lite/v4.8.1.json\"}, {\"mode\": \"vega-lite\"});\n",
       "</script>"
      ],
      "text/plain": [
       "alt.ConcatChart(...)"
      ]
     },
     "execution_count": 5,
     "metadata": {},
     "output_type": "execute_result"
    }
   ],
   "source": [
    "aly.dist(movies, 'MPAA Rating')"
   ]
  },
  {
   "cell_type": "markdown",
   "metadata": {},
   "source": [
    "## Pairwise variable relationships"
   ]
  },
  {
   "cell_type": "code",
   "execution_count": 6,
   "metadata": {},
   "outputs": [
    {
     "data": {
      "text/html": [
       "\n",
       "<div id=\"altair-viz-f5e20438442940c5ada99a9bf031afef\"></div>\n",
       "<script type=\"text/javascript\">\n",
       "  (function(spec, embedOpt){\n",
       "    let outputDiv = document.currentScript.previousElementSibling;\n",
       "    if (outputDiv.id !== \"altair-viz-f5e20438442940c5ada99a9bf031afef\") {\n",
       "      outputDiv = document.getElementById(\"altair-viz-f5e20438442940c5ada99a9bf031afef\");\n",
       "    }\n",
       "    const paths = {\n",
       "      \"vega\": \"https://cdn.jsdelivr.net/npm//vega@5?noext\",\n",
       "      \"vega-lib\": \"https://cdn.jsdelivr.net/npm//vega-lib?noext\",\n",
       "      \"vega-lite\": \"https://cdn.jsdelivr.net/npm//vega-lite@4.8.1?noext\",\n",
       "      \"vega-embed\": \"https://cdn.jsdelivr.net/npm//vega-embed@6?noext\",\n",
       "    };\n",
       "\n",
       "    function loadScript(lib) {\n",
       "      return new Promise(function(resolve, reject) {\n",
       "        var s = document.createElement('script');\n",
       "        s.src = paths[lib];\n",
       "        s.async = true;\n",
       "        s.onload = () => resolve(paths[lib]);\n",
       "        s.onerror = () => reject(`Error loading script: ${paths[lib]}`);\n",
       "        document.getElementsByTagName(\"head\")[0].appendChild(s);\n",
       "      });\n",
       "    }\n",
       "\n",
       "    function showError(err) {\n",
       "      outputDiv.innerHTML = `<div class=\"error\" style=\"color:red;\">${err}</div>`;\n",
       "      throw err;\n",
       "    }\n",
       "\n",
       "    function displayChart(vegaEmbed) {\n",
       "      vegaEmbed(outputDiv, spec, embedOpt)\n",
       "        .catch(err => showError(`Javascript Error: ${err.message}<br>This usually means there's a typo in your chart specification. See the javascript console for the full traceback.`));\n",
       "    }\n",
       "\n",
       "    if(typeof define === \"function\" && define.amd) {\n",
       "      requirejs.config({paths});\n",
       "      require([\"vega-embed\"], displayChart, err => showError(`Error loading script: ${err.message}`));\n",
       "    } else if (typeof vegaEmbed === \"function\") {\n",
       "      displayChart(vegaEmbed);\n",
       "    } else {\n",
       "      loadScript(\"vega\")\n",
       "        .then(() => loadScript(\"vega-lite\"))\n",
       "        .then(() => loadScript(\"vega-embed\"))\n",
       "        .catch(showError)\n",
       "        .then(() => displayChart(vegaEmbed));\n",
       "    }\n",
       "  })({\"config\": {\"view\": {\"continuousWidth\": 400, \"continuousHeight\": 300}}, \"vconcat\": [{\"hconcat\": [{\"mark\": \"point\", \"encoding\": {\"color\": {\"condition\": {\"type\": \"quantitative\", \"field\": \"\", \"legend\": {\"offset\": -240.0, \"orient\": \"left\"}, \"title\": null, \"selection\": \"selector002\"}, \"value\": \"lightgrey\"}, \"opacity\": {\"condition\": {\"value\": 0.8, \"selection\": \"selector003\"}, \"value\": 0.2}, \"tooltip\": {\"type\": \"quantitative\", \"field\": \"\"}, \"x\": {\"type\": \"quantitative\", \"axis\": {\"domain\": false, \"labels\": false, \"ticks\": false, \"title\": \"\"}, \"field\": \"IMDB Votes\"}, \"y\": {\"type\": \"quantitative\", \"field\": \"IMDB Rating\"}}, \"height\": 150, \"selection\": {\"selector002\": {\"type\": \"interval\"}, \"selector003\": {\"type\": \"multi\", \"fields\": [\"\"], \"bind\": \"legend\"}}, \"width\": 150}]}, {\"hconcat\": [{\"mark\": \"point\", \"encoding\": {\"color\": {\"condition\": {\"type\": \"quantitative\", \"field\": \"\", \"legend\": {\"offset\": -240.0, \"orient\": \"left\"}, \"title\": null, \"selection\": \"selector002\"}, \"value\": \"lightgrey\"}, \"opacity\": {\"condition\": {\"value\": 0.8, \"selection\": \"selector003\"}, \"value\": 0.2}, \"tooltip\": {\"type\": \"quantitative\", \"field\": \"\"}, \"x\": {\"type\": \"quantitative\", \"axis\": {\"domain\": false, \"labels\": false, \"ticks\": false, \"title\": \"\"}, \"field\": \"IMDB Votes\"}, \"y\": {\"type\": \"quantitative\", \"field\": \"Rotten Tomatoes Rating\"}}, \"height\": 150, \"selection\": {\"selector002\": {\"type\": \"interval\"}, \"selector003\": {\"type\": \"multi\", \"fields\": [\"\"], \"bind\": \"legend\"}}, \"width\": 150}, {\"mark\": \"point\", \"encoding\": {\"color\": {\"condition\": {\"type\": \"quantitative\", \"field\": \"\", \"legend\": {\"offset\": -240.0, \"orient\": \"left\"}, \"title\": null, \"selection\": \"selector002\"}, \"value\": \"lightgrey\"}, \"opacity\": {\"condition\": {\"value\": 0.8, \"selection\": \"selector003\"}, \"value\": 0.2}, \"tooltip\": {\"type\": \"quantitative\", \"field\": \"\"}, \"x\": {\"type\": \"quantitative\", \"axis\": {\"domain\": false, \"labels\": false, \"ticks\": false, \"title\": \"\"}, \"field\": \"IMDB Rating\"}, \"y\": {\"type\": \"quantitative\", \"axis\": {\"domain\": false, \"labels\": false, \"ticks\": false, \"title\": \"\"}, \"field\": \"Rotten Tomatoes Rating\"}}, \"height\": 150, \"selection\": {\"selector002\": {\"type\": \"interval\"}, \"selector003\": {\"type\": \"multi\", \"fields\": [\"\"], \"bind\": \"legend\"}}, \"width\": 150}]}, {\"hconcat\": [{\"mark\": \"point\", \"encoding\": {\"color\": {\"condition\": {\"type\": \"quantitative\", \"field\": \"\", \"legend\": {\"offset\": -240.0, \"orient\": \"left\"}, \"title\": null, \"selection\": \"selector002\"}, \"value\": \"lightgrey\"}, \"opacity\": {\"condition\": {\"value\": 0.8, \"selection\": \"selector003\"}, \"value\": 0.2}, \"tooltip\": {\"type\": \"quantitative\", \"field\": \"\"}, \"x\": {\"type\": \"quantitative\", \"axis\": {\"domain\": false, \"labels\": false, \"ticks\": false, \"title\": \"\"}, \"field\": \"IMDB Votes\"}, \"y\": {\"type\": \"quantitative\", \"field\": \"Running Time min\"}}, \"height\": 150, \"selection\": {\"selector002\": {\"type\": \"interval\"}, \"selector003\": {\"type\": \"multi\", \"fields\": [\"\"], \"bind\": \"legend\"}}, \"width\": 150}, {\"mark\": \"point\", \"encoding\": {\"color\": {\"condition\": {\"type\": \"quantitative\", \"field\": \"\", \"legend\": {\"offset\": -240.0, \"orient\": \"left\"}, \"title\": null, \"selection\": \"selector002\"}, \"value\": \"lightgrey\"}, \"opacity\": {\"condition\": {\"value\": 0.8, \"selection\": \"selector003\"}, \"value\": 0.2}, \"tooltip\": {\"type\": \"quantitative\", \"field\": \"\"}, \"x\": {\"type\": \"quantitative\", \"axis\": {\"domain\": false, \"labels\": false, \"ticks\": false, \"title\": \"\"}, \"field\": \"IMDB Rating\"}, \"y\": {\"type\": \"quantitative\", \"axis\": {\"domain\": false, \"labels\": false, \"ticks\": false, \"title\": \"\"}, \"field\": \"Running Time min\"}}, \"height\": 150, \"selection\": {\"selector002\": {\"type\": \"interval\"}, \"selector003\": {\"type\": \"multi\", \"fields\": [\"\"], \"bind\": \"legend\"}}, \"width\": 150}, {\"mark\": \"point\", \"encoding\": {\"color\": {\"condition\": {\"type\": \"quantitative\", \"field\": \"\", \"legend\": {\"offset\": -240.0, \"orient\": \"left\"}, \"title\": null, \"selection\": \"selector002\"}, \"value\": \"lightgrey\"}, \"opacity\": {\"condition\": {\"value\": 0.8, \"selection\": \"selector003\"}, \"value\": 0.2}, \"tooltip\": {\"type\": \"quantitative\", \"field\": \"\"}, \"x\": {\"type\": \"quantitative\", \"axis\": {\"domain\": false, \"labels\": false, \"ticks\": false, \"title\": \"\"}, \"field\": \"Rotten Tomatoes Rating\"}, \"y\": {\"type\": \"quantitative\", \"axis\": {\"domain\": false, \"labels\": false, \"ticks\": false, \"title\": \"\"}, \"field\": \"Running Time min\"}}, \"height\": 150, \"selection\": {\"selector002\": {\"type\": \"interval\"}, \"selector003\": {\"type\": \"multi\", \"fields\": [\"\"], \"bind\": \"legend\"}}, \"width\": 150}]}, {\"hconcat\": [{\"mark\": \"point\", \"encoding\": {\"color\": {\"condition\": {\"type\": \"quantitative\", \"field\": \"\", \"legend\": {\"offset\": -240.0, \"orient\": \"left\"}, \"title\": null, \"selection\": \"selector002\"}, \"value\": \"lightgrey\"}, \"opacity\": {\"condition\": {\"value\": 0.8, \"selection\": \"selector003\"}, \"value\": 0.2}, \"tooltip\": {\"type\": \"quantitative\", \"field\": \"\"}, \"x\": {\"type\": \"quantitative\", \"axis\": {\"domain\": false, \"labels\": false, \"ticks\": false, \"title\": \"\"}, \"field\": \"IMDB Votes\"}, \"y\": {\"type\": \"quantitative\", \"field\": \"Production Budget\"}}, \"height\": 150, \"selection\": {\"selector002\": {\"type\": \"interval\"}, \"selector003\": {\"type\": \"multi\", \"fields\": [\"\"], \"bind\": \"legend\"}}, \"width\": 150}, {\"mark\": \"point\", \"encoding\": {\"color\": {\"condition\": {\"type\": \"quantitative\", \"field\": \"\", \"legend\": {\"offset\": -240.0, \"orient\": \"left\"}, \"title\": null, \"selection\": \"selector002\"}, \"value\": \"lightgrey\"}, \"opacity\": {\"condition\": {\"value\": 0.8, \"selection\": \"selector003\"}, \"value\": 0.2}, \"tooltip\": {\"type\": \"quantitative\", \"field\": \"\"}, \"x\": {\"type\": \"quantitative\", \"axis\": {\"domain\": false, \"labels\": false, \"ticks\": false, \"title\": \"\"}, \"field\": \"IMDB Rating\"}, \"y\": {\"type\": \"quantitative\", \"axis\": {\"domain\": false, \"labels\": false, \"ticks\": false, \"title\": \"\"}, \"field\": \"Production Budget\"}}, \"height\": 150, \"selection\": {\"selector002\": {\"type\": \"interval\"}, \"selector003\": {\"type\": \"multi\", \"fields\": [\"\"], \"bind\": \"legend\"}}, \"width\": 150}, {\"mark\": \"point\", \"encoding\": {\"color\": {\"condition\": {\"type\": \"quantitative\", \"field\": \"\", \"legend\": {\"offset\": -240.0, \"orient\": \"left\"}, \"title\": null, \"selection\": \"selector002\"}, \"value\": \"lightgrey\"}, \"opacity\": {\"condition\": {\"value\": 0.8, \"selection\": \"selector003\"}, \"value\": 0.2}, \"tooltip\": {\"type\": \"quantitative\", \"field\": \"\"}, \"x\": {\"type\": \"quantitative\", \"axis\": {\"domain\": false, \"labels\": false, \"ticks\": false, \"title\": \"\"}, \"field\": \"Rotten Tomatoes Rating\"}, \"y\": {\"type\": \"quantitative\", \"axis\": {\"domain\": false, \"labels\": false, \"ticks\": false, \"title\": \"\"}, \"field\": \"Production Budget\"}}, \"height\": 150, \"selection\": {\"selector002\": {\"type\": \"interval\"}, \"selector003\": {\"type\": \"multi\", \"fields\": [\"\"], \"bind\": \"legend\"}}, \"width\": 150}, {\"mark\": \"point\", \"encoding\": {\"color\": {\"condition\": {\"type\": \"quantitative\", \"field\": \"\", \"legend\": {\"offset\": -240.0, \"orient\": \"left\"}, \"title\": null, \"selection\": \"selector002\"}, \"value\": \"lightgrey\"}, \"opacity\": {\"condition\": {\"value\": 0.8, \"selection\": \"selector003\"}, \"value\": 0.2}, \"tooltip\": {\"type\": \"quantitative\", \"field\": \"\"}, \"x\": {\"type\": \"quantitative\", \"axis\": {\"domain\": false, \"labels\": false, \"ticks\": false, \"title\": \"\"}, \"field\": \"Running Time min\"}, \"y\": {\"type\": \"quantitative\", \"axis\": {\"domain\": false, \"labels\": false, \"ticks\": false, \"title\": \"\"}, \"field\": \"Production Budget\"}}, \"height\": 150, \"selection\": {\"selector002\": {\"type\": \"interval\"}, \"selector003\": {\"type\": \"multi\", \"fields\": [\"\"], \"bind\": \"legend\"}}, \"width\": 150}]}, {\"hconcat\": [{\"mark\": \"point\", \"encoding\": {\"color\": {\"condition\": {\"type\": \"quantitative\", \"field\": \"\", \"legend\": {\"offset\": -240.0, \"orient\": \"left\"}, \"title\": null, \"selection\": \"selector002\"}, \"value\": \"lightgrey\"}, \"opacity\": {\"condition\": {\"value\": 0.8, \"selection\": \"selector003\"}, \"value\": 0.2}, \"tooltip\": {\"type\": \"quantitative\", \"field\": \"\"}, \"x\": {\"type\": \"quantitative\", \"axis\": {\"domain\": false, \"labels\": false, \"ticks\": false, \"title\": \"\"}, \"field\": \"IMDB Votes\"}, \"y\": {\"type\": \"quantitative\", \"field\": \"US DVD Sales\"}}, \"height\": 150, \"selection\": {\"selector002\": {\"type\": \"interval\"}, \"selector003\": {\"type\": \"multi\", \"fields\": [\"\"], \"bind\": \"legend\"}}, \"width\": 150}, {\"mark\": \"point\", \"encoding\": {\"color\": {\"condition\": {\"type\": \"quantitative\", \"field\": \"\", \"legend\": {\"offset\": -240.0, \"orient\": \"left\"}, \"title\": null, \"selection\": \"selector002\"}, \"value\": \"lightgrey\"}, \"opacity\": {\"condition\": {\"value\": 0.8, \"selection\": \"selector003\"}, \"value\": 0.2}, \"tooltip\": {\"type\": \"quantitative\", \"field\": \"\"}, \"x\": {\"type\": \"quantitative\", \"axis\": {\"domain\": false, \"labels\": false, \"ticks\": false, \"title\": \"\"}, \"field\": \"IMDB Rating\"}, \"y\": {\"type\": \"quantitative\", \"axis\": {\"domain\": false, \"labels\": false, \"ticks\": false, \"title\": \"\"}, \"field\": \"US DVD Sales\"}}, \"height\": 150, \"selection\": {\"selector002\": {\"type\": \"interval\"}, \"selector003\": {\"type\": \"multi\", \"fields\": [\"\"], \"bind\": \"legend\"}}, \"width\": 150}, {\"mark\": \"point\", \"encoding\": {\"color\": {\"condition\": {\"type\": \"quantitative\", \"field\": \"\", \"legend\": {\"offset\": -240.0, \"orient\": \"left\"}, \"title\": null, \"selection\": \"selector002\"}, \"value\": \"lightgrey\"}, \"opacity\": {\"condition\": {\"value\": 0.8, \"selection\": \"selector003\"}, \"value\": 0.2}, \"tooltip\": {\"type\": \"quantitative\", \"field\": \"\"}, \"x\": {\"type\": \"quantitative\", \"axis\": {\"domain\": false, \"labels\": false, \"ticks\": false, \"title\": \"\"}, \"field\": \"Rotten Tomatoes Rating\"}, \"y\": {\"type\": \"quantitative\", \"axis\": {\"domain\": false, \"labels\": false, \"ticks\": false, \"title\": \"\"}, \"field\": \"US DVD Sales\"}}, \"height\": 150, \"selection\": {\"selector002\": {\"type\": \"interval\"}, \"selector003\": {\"type\": \"multi\", \"fields\": [\"\"], \"bind\": \"legend\"}}, \"width\": 150}, {\"mark\": \"point\", \"encoding\": {\"color\": {\"condition\": {\"type\": \"quantitative\", \"field\": \"\", \"legend\": {\"offset\": -240.0, \"orient\": \"left\"}, \"title\": null, \"selection\": \"selector002\"}, \"value\": \"lightgrey\"}, \"opacity\": {\"condition\": {\"value\": 0.8, \"selection\": \"selector003\"}, \"value\": 0.2}, \"tooltip\": {\"type\": \"quantitative\", \"field\": \"\"}, \"x\": {\"type\": \"quantitative\", \"axis\": {\"domain\": false, \"labels\": false, \"ticks\": false, \"title\": \"\"}, \"field\": \"Running Time min\"}, \"y\": {\"type\": \"quantitative\", \"axis\": {\"domain\": false, \"labels\": false, \"ticks\": false, \"title\": \"\"}, \"field\": \"US DVD Sales\"}}, \"height\": 150, \"selection\": {\"selector002\": {\"type\": \"interval\"}, \"selector003\": {\"type\": \"multi\", \"fields\": [\"\"], \"bind\": \"legend\"}}, \"width\": 150}, {\"mark\": \"point\", \"encoding\": {\"color\": {\"condition\": {\"type\": \"quantitative\", \"field\": \"\", \"legend\": {\"offset\": -240.0, \"orient\": \"left\"}, \"title\": null, \"selection\": \"selector002\"}, \"value\": \"lightgrey\"}, \"opacity\": {\"condition\": {\"value\": 0.8, \"selection\": \"selector003\"}, \"value\": 0.2}, \"tooltip\": {\"type\": \"quantitative\", \"field\": \"\"}, \"x\": {\"type\": \"quantitative\", \"axis\": {\"domain\": false, \"labels\": false, \"ticks\": false, \"title\": \"\"}, \"field\": \"Production Budget\"}, \"y\": {\"type\": \"quantitative\", \"axis\": {\"domain\": false, \"labels\": false, \"ticks\": false, \"title\": \"\"}, \"field\": \"US DVD Sales\"}}, \"height\": 150, \"selection\": {\"selector002\": {\"type\": \"interval\"}, \"selector003\": {\"type\": \"multi\", \"fields\": [\"\"], \"bind\": \"legend\"}}, \"width\": 150}]}, {\"hconcat\": [{\"mark\": \"point\", \"encoding\": {\"color\": {\"condition\": {\"type\": \"quantitative\", \"field\": \"\", \"legend\": {\"offset\": -240.0, \"orient\": \"left\"}, \"title\": null, \"selection\": \"selector002\"}, \"value\": \"lightgrey\"}, \"opacity\": {\"condition\": {\"value\": 0.8, \"selection\": \"selector003\"}, \"value\": 0.2}, \"tooltip\": {\"type\": \"quantitative\", \"field\": \"\"}, \"x\": {\"type\": \"quantitative\", \"axis\": {\"domain\": false, \"labels\": false, \"ticks\": false, \"title\": \"\"}, \"field\": \"IMDB Votes\"}, \"y\": {\"type\": \"quantitative\", \"field\": \"Worldwide Gross\"}}, \"height\": 150, \"selection\": {\"selector002\": {\"type\": \"interval\"}, \"selector003\": {\"type\": \"multi\", \"fields\": [\"\"], \"bind\": \"legend\"}}, \"width\": 150}, {\"mark\": \"point\", \"encoding\": {\"color\": {\"condition\": {\"type\": \"quantitative\", \"field\": \"\", \"legend\": {\"offset\": -240.0, \"orient\": \"left\"}, \"title\": null, \"selection\": \"selector002\"}, \"value\": \"lightgrey\"}, \"opacity\": {\"condition\": {\"value\": 0.8, \"selection\": \"selector003\"}, \"value\": 0.2}, \"tooltip\": {\"type\": \"quantitative\", \"field\": \"\"}, \"x\": {\"type\": \"quantitative\", \"axis\": {\"domain\": false, \"labels\": false, \"ticks\": false, \"title\": \"\"}, \"field\": \"IMDB Rating\"}, \"y\": {\"type\": \"quantitative\", \"axis\": {\"domain\": false, \"labels\": false, \"ticks\": false, \"title\": \"\"}, \"field\": \"Worldwide Gross\"}}, \"height\": 150, \"selection\": {\"selector002\": {\"type\": \"interval\"}, \"selector003\": {\"type\": \"multi\", \"fields\": [\"\"], \"bind\": \"legend\"}}, \"width\": 150}, {\"mark\": \"point\", \"encoding\": {\"color\": {\"condition\": {\"type\": \"quantitative\", \"field\": \"\", \"legend\": {\"offset\": -240.0, \"orient\": \"left\"}, \"title\": null, \"selection\": \"selector002\"}, \"value\": \"lightgrey\"}, \"opacity\": {\"condition\": {\"value\": 0.8, \"selection\": \"selector003\"}, \"value\": 0.2}, \"tooltip\": {\"type\": \"quantitative\", \"field\": \"\"}, \"x\": {\"type\": \"quantitative\", \"axis\": {\"domain\": false, \"labels\": false, \"ticks\": false, \"title\": \"\"}, \"field\": \"Rotten Tomatoes Rating\"}, \"y\": {\"type\": \"quantitative\", \"axis\": {\"domain\": false, \"labels\": false, \"ticks\": false, \"title\": \"\"}, \"field\": \"Worldwide Gross\"}}, \"height\": 150, \"selection\": {\"selector002\": {\"type\": \"interval\"}, \"selector003\": {\"type\": \"multi\", \"fields\": [\"\"], \"bind\": \"legend\"}}, \"width\": 150}, {\"mark\": \"point\", \"encoding\": {\"color\": {\"condition\": {\"type\": \"quantitative\", \"field\": \"\", \"legend\": {\"offset\": -240.0, \"orient\": \"left\"}, \"title\": null, \"selection\": \"selector002\"}, \"value\": \"lightgrey\"}, \"opacity\": {\"condition\": {\"value\": 0.8, \"selection\": \"selector003\"}, \"value\": 0.2}, \"tooltip\": {\"type\": \"quantitative\", \"field\": \"\"}, \"x\": {\"type\": \"quantitative\", \"axis\": {\"domain\": false, \"labels\": false, \"ticks\": false, \"title\": \"\"}, \"field\": \"Running Time min\"}, \"y\": {\"type\": \"quantitative\", \"axis\": {\"domain\": false, \"labels\": false, \"ticks\": false, \"title\": \"\"}, \"field\": \"Worldwide Gross\"}}, \"height\": 150, \"selection\": {\"selector002\": {\"type\": \"interval\"}, \"selector003\": {\"type\": \"multi\", \"fields\": [\"\"], \"bind\": \"legend\"}}, \"width\": 150}, {\"mark\": \"point\", \"encoding\": {\"color\": {\"condition\": {\"type\": \"quantitative\", \"field\": \"\", \"legend\": {\"offset\": -240.0, \"orient\": \"left\"}, \"title\": null, \"selection\": \"selector002\"}, \"value\": \"lightgrey\"}, \"opacity\": {\"condition\": {\"value\": 0.8, \"selection\": \"selector003\"}, \"value\": 0.2}, \"tooltip\": {\"type\": \"quantitative\", \"field\": \"\"}, \"x\": {\"type\": \"quantitative\", \"axis\": {\"domain\": false, \"labels\": false, \"ticks\": false, \"title\": \"\"}, \"field\": \"Production Budget\"}, \"y\": {\"type\": \"quantitative\", \"axis\": {\"domain\": false, \"labels\": false, \"ticks\": false, \"title\": \"\"}, \"field\": \"Worldwide Gross\"}}, \"height\": 150, \"selection\": {\"selector002\": {\"type\": \"interval\"}, \"selector003\": {\"type\": \"multi\", \"fields\": [\"\"], \"bind\": \"legend\"}}, \"width\": 150}, {\"mark\": \"point\", \"encoding\": {\"color\": {\"condition\": {\"type\": \"quantitative\", \"field\": \"\", \"legend\": {\"offset\": -240.0, \"orient\": \"left\"}, \"title\": null, \"selection\": \"selector002\"}, \"value\": \"lightgrey\"}, \"opacity\": {\"condition\": {\"value\": 0.8, \"selection\": \"selector003\"}, \"value\": 0.2}, \"tooltip\": {\"type\": \"quantitative\", \"field\": \"\"}, \"x\": {\"type\": \"quantitative\", \"axis\": {\"domain\": false, \"labels\": false, \"ticks\": false, \"title\": \"\"}, \"field\": \"US DVD Sales\"}, \"y\": {\"type\": \"quantitative\", \"axis\": {\"domain\": false, \"labels\": false, \"ticks\": false, \"title\": \"\"}, \"field\": \"Worldwide Gross\"}}, \"height\": 150, \"selection\": {\"selector002\": {\"type\": \"interval\"}, \"selector003\": {\"type\": \"multi\", \"fields\": [\"\"], \"bind\": \"legend\"}}, \"width\": 150}]}, {\"hconcat\": [{\"mark\": \"point\", \"encoding\": {\"color\": {\"condition\": {\"type\": \"quantitative\", \"field\": \"\", \"legend\": {\"offset\": -240.0, \"orient\": \"left\"}, \"title\": null, \"selection\": \"selector002\"}, \"value\": \"lightgrey\"}, \"opacity\": {\"condition\": {\"value\": 0.8, \"selection\": \"selector003\"}, \"value\": 0.2}, \"tooltip\": {\"type\": \"quantitative\", \"field\": \"\"}, \"x\": {\"type\": \"quantitative\", \"field\": \"IMDB Votes\"}, \"y\": {\"type\": \"quantitative\", \"field\": \"US Gross\"}}, \"height\": 150, \"selection\": {\"selector002\": {\"type\": \"interval\"}, \"selector003\": {\"type\": \"multi\", \"fields\": [\"\"], \"bind\": \"legend\"}}, \"width\": 150}, {\"mark\": \"point\", \"encoding\": {\"color\": {\"condition\": {\"type\": \"quantitative\", \"field\": \"\", \"legend\": {\"offset\": -240.0, \"orient\": \"left\"}, \"title\": null, \"selection\": \"selector002\"}, \"value\": \"lightgrey\"}, \"opacity\": {\"condition\": {\"value\": 0.8, \"selection\": \"selector003\"}, \"value\": 0.2}, \"tooltip\": {\"type\": \"quantitative\", \"field\": \"\"}, \"x\": {\"type\": \"quantitative\", \"field\": \"IMDB Rating\"}, \"y\": {\"type\": \"quantitative\", \"axis\": {\"domain\": false, \"labels\": false, \"ticks\": false, \"title\": \"\"}, \"field\": \"US Gross\"}}, \"height\": 150, \"selection\": {\"selector002\": {\"type\": \"interval\"}, \"selector003\": {\"type\": \"multi\", \"fields\": [\"\"], \"bind\": \"legend\"}}, \"width\": 150}, {\"mark\": \"point\", \"encoding\": {\"color\": {\"condition\": {\"type\": \"quantitative\", \"field\": \"\", \"legend\": {\"offset\": -240.0, \"orient\": \"left\"}, \"title\": null, \"selection\": \"selector002\"}, \"value\": \"lightgrey\"}, \"opacity\": {\"condition\": {\"value\": 0.8, \"selection\": \"selector003\"}, \"value\": 0.2}, \"tooltip\": {\"type\": \"quantitative\", \"field\": \"\"}, \"x\": {\"type\": \"quantitative\", \"field\": \"Rotten Tomatoes Rating\"}, \"y\": {\"type\": \"quantitative\", \"axis\": {\"domain\": false, \"labels\": false, \"ticks\": false, \"title\": \"\"}, \"field\": \"US Gross\"}}, \"height\": 150, \"selection\": {\"selector002\": {\"type\": \"interval\"}, \"selector003\": {\"type\": \"multi\", \"fields\": [\"\"], \"bind\": \"legend\"}}, \"width\": 150}, {\"mark\": \"point\", \"encoding\": {\"color\": {\"condition\": {\"type\": \"quantitative\", \"field\": \"\", \"legend\": {\"offset\": -240.0, \"orient\": \"left\"}, \"title\": null, \"selection\": \"selector002\"}, \"value\": \"lightgrey\"}, \"opacity\": {\"condition\": {\"value\": 0.8, \"selection\": \"selector003\"}, \"value\": 0.2}, \"tooltip\": {\"type\": \"quantitative\", \"field\": \"\"}, \"x\": {\"type\": \"quantitative\", \"field\": \"Running Time min\"}, \"y\": {\"type\": \"quantitative\", \"axis\": {\"domain\": false, \"labels\": false, \"ticks\": false, \"title\": \"\"}, \"field\": \"US Gross\"}}, \"height\": 150, \"selection\": {\"selector002\": {\"type\": \"interval\"}, \"selector003\": {\"type\": \"multi\", \"fields\": [\"\"], \"bind\": \"legend\"}}, \"width\": 150}, {\"mark\": \"point\", \"encoding\": {\"color\": {\"condition\": {\"type\": \"quantitative\", \"field\": \"\", \"legend\": {\"offset\": -240.0, \"orient\": \"left\"}, \"title\": null, \"selection\": \"selector002\"}, \"value\": \"lightgrey\"}, \"opacity\": {\"condition\": {\"value\": 0.8, \"selection\": \"selector003\"}, \"value\": 0.2}, \"tooltip\": {\"type\": \"quantitative\", \"field\": \"\"}, \"x\": {\"type\": \"quantitative\", \"field\": \"Production Budget\"}, \"y\": {\"type\": \"quantitative\", \"axis\": {\"domain\": false, \"labels\": false, \"ticks\": false, \"title\": \"\"}, \"field\": \"US Gross\"}}, \"height\": 150, \"selection\": {\"selector002\": {\"type\": \"interval\"}, \"selector003\": {\"type\": \"multi\", \"fields\": [\"\"], \"bind\": \"legend\"}}, \"width\": 150}, {\"mark\": \"point\", \"encoding\": {\"color\": {\"condition\": {\"type\": \"quantitative\", \"field\": \"\", \"legend\": {\"offset\": -240.0, \"orient\": \"left\"}, \"title\": null, \"selection\": \"selector002\"}, \"value\": \"lightgrey\"}, \"opacity\": {\"condition\": {\"value\": 0.8, \"selection\": \"selector003\"}, \"value\": 0.2}, \"tooltip\": {\"type\": \"quantitative\", \"field\": \"\"}, \"x\": {\"type\": \"quantitative\", \"field\": \"US DVD Sales\"}, \"y\": {\"type\": \"quantitative\", \"axis\": {\"domain\": false, \"labels\": false, \"ticks\": false, \"title\": \"\"}, \"field\": \"US Gross\"}}, \"height\": 150, \"selection\": {\"selector002\": {\"type\": \"interval\"}, \"selector003\": {\"type\": \"multi\", \"fields\": [\"\"], \"bind\": \"legend\"}}, \"width\": 150}, {\"mark\": \"point\", \"encoding\": {\"color\": {\"condition\": {\"type\": \"quantitative\", \"field\": \"\", \"legend\": {\"offset\": -240.0, \"orient\": \"left\"}, \"title\": null, \"selection\": \"selector002\"}, \"value\": \"lightgrey\"}, \"opacity\": {\"condition\": {\"value\": 0.8, \"selection\": \"selector003\"}, \"value\": 0.2}, \"tooltip\": {\"type\": \"quantitative\", \"field\": \"\"}, \"x\": {\"type\": \"quantitative\", \"field\": \"Worldwide Gross\"}, \"y\": {\"type\": \"quantitative\", \"axis\": {\"domain\": false, \"labels\": false, \"ticks\": false, \"title\": \"\"}, \"field\": \"US Gross\"}}, \"height\": 150, \"selection\": {\"selector002\": {\"type\": \"interval\"}, \"selector003\": {\"type\": \"multi\", \"fields\": [\"\"], \"bind\": \"legend\"}}, \"width\": 150}]}], \"data\": {\"url\": \"http://localhost:24101/afa20f4165c8ba26cd86c7730da6c81f.json\"}, \"$schema\": \"https://vega.github.io/schema/vega-lite/v4.8.1.json\"}, {\"mode\": \"vega-lite\"});\n",
       "</script>"
      ],
      "text/plain": [
       "alt.VConcatChart(...)"
      ]
     },
     "execution_count": 6,
     "metadata": {},
     "output_type": "execute_result"
    }
   ],
   "source": [
    "aly.pair(movies)"
   ]
  },
  {
   "cell_type": "markdown",
   "metadata": {},
   "source": [
    "## Pairwise variable correlation"
   ]
  },
  {
   "cell_type": "code",
   "execution_count": 7,
   "metadata": {},
   "outputs": [
    {
     "data": {
      "text/html": [
       "\n",
       "<div id=\"altair-viz-1785593bbb7f41aca4fe45d4e43c5af0\"></div>\n",
       "<script type=\"text/javascript\">\n",
       "  (function(spec, embedOpt){\n",
       "    let outputDiv = document.currentScript.previousElementSibling;\n",
       "    if (outputDiv.id !== \"altair-viz-1785593bbb7f41aca4fe45d4e43c5af0\") {\n",
       "      outputDiv = document.getElementById(\"altair-viz-1785593bbb7f41aca4fe45d4e43c5af0\");\n",
       "    }\n",
       "    const paths = {\n",
       "      \"vega\": \"https://cdn.jsdelivr.net/npm//vega@5?noext\",\n",
       "      \"vega-lib\": \"https://cdn.jsdelivr.net/npm//vega-lib?noext\",\n",
       "      \"vega-lite\": \"https://cdn.jsdelivr.net/npm//vega-lite@4.8.1?noext\",\n",
       "      \"vega-embed\": \"https://cdn.jsdelivr.net/npm//vega-embed@6?noext\",\n",
       "    };\n",
       "\n",
       "    function loadScript(lib) {\n",
       "      return new Promise(function(resolve, reject) {\n",
       "        var s = document.createElement('script');\n",
       "        s.src = paths[lib];\n",
       "        s.async = true;\n",
       "        s.onload = () => resolve(paths[lib]);\n",
       "        s.onerror = () => reject(`Error loading script: ${paths[lib]}`);\n",
       "        document.getElementsByTagName(\"head\")[0].appendChild(s);\n",
       "      });\n",
       "    }\n",
       "\n",
       "    function showError(err) {\n",
       "      outputDiv.innerHTML = `<div class=\"error\" style=\"color:red;\">${err}</div>`;\n",
       "      throw err;\n",
       "    }\n",
       "\n",
       "    function displayChart(vegaEmbed) {\n",
       "      vegaEmbed(outputDiv, spec, embedOpt)\n",
       "        .catch(err => showError(`Javascript Error: ${err.message}<br>This usually means there's a typo in your chart specification. See the javascript console for the full traceback.`));\n",
       "    }\n",
       "\n",
       "    if(typeof define === \"function\" && define.amd) {\n",
       "      requirejs.config({paths});\n",
       "      require([\"vega-embed\"], displayChart, err => showError(`Error loading script: ${err.message}`));\n",
       "    } else if (typeof vegaEmbed === \"function\") {\n",
       "      displayChart(vegaEmbed);\n",
       "    } else {\n",
       "      loadScript(\"vega\")\n",
       "        .then(() => loadScript(\"vega-lite\"))\n",
       "        .then(() => loadScript(\"vega-embed\"))\n",
       "        .catch(showError)\n",
       "        .then(() => displayChart(vegaEmbed));\n",
       "    }\n",
       "  })({\"config\": {\"view\": {\"continuousWidth\": 400, \"continuousHeight\": 300, \"strokeWidth\": 0}}, \"concat\": [{\"data\": {\"url\": \"http://localhost:24101/7d994eb32150e46bfb49761ab18ab3b6.json\"}, \"mark\": \"circle\", \"encoding\": {\"color\": {\"type\": \"quantitative\", \"field\": \"value\", \"scale\": {\"domain\": [-1, 1], \"scheme\": \"blueorange\"}, \"title\": \"\"}, \"opacity\": {\"condition\": {\"value\": 0.9, \"selection\": \"selector004\"}, \"value\": 0.2}, \"size\": {\"type\": \"quantitative\", \"field\": \"abs_value\", \"legend\": null, \"scale\": {\"domain\": [0, 1]}}, \"tooltip\": {\"type\": \"quantitative\", \"field\": \"value\", \"format\": \".2f\"}, \"x\": {\"type\": \"nominal\", \"field\": \"index\", \"sort\": [\"IMDB Votes\", \"IMDB Rating\", \"Rotten Tomatoes Rating\", \"Running Time min\", \"Production Budget\", \"US DVD Sales\", \"Worldwide Gross\"], \"title\": \"\"}, \"y\": {\"type\": \"nominal\", \"axis\": {}, \"field\": \"variable\", \"sort\": [\"IMDB Rating\", \"Rotten Tomatoes Rating\", \"Running Time min\", \"Production Budget\", \"US DVD Sales\", \"Worldwide Gross\", \"US Gross\"], \"title\": \"\"}}, \"selection\": {\"selector004\": {\"type\": \"multi\", \"fields\": [\"variable\", \"index\"], \"on\": \"mouseover\", \"nearest\": true, \"empty\": \"all\"}}, \"title\": \"Pearson correlations\", \"transform\": [{\"calculate\": \"abs(datum.value)\", \"as\": \"abs_value\"}]}, {\"data\": {\"url\": \"http://localhost:24101/85f4ce125e96b6e8e780e44ada386fa0.json\"}, \"mark\": \"circle\", \"encoding\": {\"color\": {\"type\": \"quantitative\", \"field\": \"value\", \"scale\": {\"domain\": [-1, 1], \"scheme\": \"blueorange\"}, \"title\": \"\"}, \"opacity\": {\"condition\": {\"value\": 0.9, \"selection\": \"selector004\"}, \"value\": 0.2}, \"size\": {\"type\": \"quantitative\", \"field\": \"abs_value\", \"legend\": null, \"scale\": {\"domain\": [0, 1]}}, \"tooltip\": {\"type\": \"quantitative\", \"field\": \"value\", \"format\": \".2f\"}, \"x\": {\"type\": \"nominal\", \"field\": \"index\", \"sort\": [\"IMDB Votes\", \"IMDB Rating\", \"Rotten Tomatoes Rating\", \"Running Time min\", \"Production Budget\", \"US DVD Sales\", \"Worldwide Gross\"], \"title\": \"\"}, \"y\": {\"type\": \"nominal\", \"axis\": {\"labels\": false}, \"field\": \"variable\", \"sort\": [\"IMDB Rating\", \"Rotten Tomatoes Rating\", \"Running Time min\", \"Production Budget\", \"US DVD Sales\", \"Worldwide Gross\", \"US Gross\"], \"title\": \"\"}}, \"selection\": {\"selector004\": {\"type\": \"multi\", \"fields\": [\"variable\", \"index\"], \"on\": \"mouseover\", \"nearest\": true, \"empty\": \"all\"}}, \"title\": \"Spearman correlations\", \"transform\": [{\"calculate\": \"abs(datum.value)\", \"as\": \"abs_value\"}]}], \"resolve\": {\"axis\": {\"y\": \"shared\"}}, \"$schema\": \"https://vega.github.io/schema/vega-lite/v4.8.1.json\"}, {\"mode\": \"vega-lite\"});\n",
       "</script>"
      ],
      "text/plain": [
       "alt.ConcatChart(...)"
      ]
     },
     "execution_count": 7,
     "metadata": {},
     "output_type": "execute_result"
    }
   ],
   "source": [
    "aly.corr(movies)"
   ]
  },
  {
   "cell_type": "markdown",
   "metadata": {},
   "source": [
    "## Parallel coordinates"
   ]
  },
  {
   "cell_type": "code",
   "execution_count": 11,
   "metadata": {},
   "outputs": [
    {
     "data": {
      "text/html": [
       "\n",
       "<div id=\"altair-viz-f530c2afe4ac42fe939da50bea194555\"></div>\n",
       "<script type=\"text/javascript\">\n",
       "  (function(spec, embedOpt){\n",
       "    let outputDiv = document.currentScript.previousElementSibling;\n",
       "    if (outputDiv.id !== \"altair-viz-f530c2afe4ac42fe939da50bea194555\") {\n",
       "      outputDiv = document.getElementById(\"altair-viz-f530c2afe4ac42fe939da50bea194555\");\n",
       "    }\n",
       "    const paths = {\n",
       "      \"vega\": \"https://cdn.jsdelivr.net/npm//vega@5?noext\",\n",
       "      \"vega-lib\": \"https://cdn.jsdelivr.net/npm//vega-lib?noext\",\n",
       "      \"vega-lite\": \"https://cdn.jsdelivr.net/npm//vega-lite@4.8.1?noext\",\n",
       "      \"vega-embed\": \"https://cdn.jsdelivr.net/npm//vega-embed@6?noext\",\n",
       "    };\n",
       "\n",
       "    function loadScript(lib) {\n",
       "      return new Promise(function(resolve, reject) {\n",
       "        var s = document.createElement('script');\n",
       "        s.src = paths[lib];\n",
       "        s.async = true;\n",
       "        s.onload = () => resolve(paths[lib]);\n",
       "        s.onerror = () => reject(`Error loading script: ${paths[lib]}`);\n",
       "        document.getElementsByTagName(\"head\")[0].appendChild(s);\n",
       "      });\n",
       "    }\n",
       "\n",
       "    function showError(err) {\n",
       "      outputDiv.innerHTML = `<div class=\"error\" style=\"color:red;\">${err}</div>`;\n",
       "      throw err;\n",
       "    }\n",
       "\n",
       "    function displayChart(vegaEmbed) {\n",
       "      vegaEmbed(outputDiv, spec, embedOpt)\n",
       "        .catch(err => showError(`Javascript Error: ${err.message}<br>This usually means there's a typo in your chart specification. See the javascript console for the full traceback.`));\n",
       "    }\n",
       "\n",
       "    if(typeof define === \"function\" && define.amd) {\n",
       "      requirejs.config({paths});\n",
       "      require([\"vega-embed\"], displayChart, err => showError(`Error loading script: ${err.message}`));\n",
       "    } else if (typeof vegaEmbed === \"function\") {\n",
       "      displayChart(vegaEmbed);\n",
       "    } else {\n",
       "      loadScript(\"vega\")\n",
       "        .then(() => loadScript(\"vega-lite\"))\n",
       "        .then(() => loadScript(\"vega-embed\"))\n",
       "        .catch(showError)\n",
       "        .then(() => displayChart(vegaEmbed));\n",
       "    }\n",
       "  })({\"config\": {\"view\": {\"continuousWidth\": 400, \"continuousHeight\": 300}}, \"data\": {\"url\": \"http://localhost:24101/d8cfabcf94fc1d9f6ab8ff65069ec87e.json\"}, \"mark\": \"line\", \"encoding\": {\"color\": {\"type\": \"nominal\", \"field\": \"Origin\", \"title\": null}, \"detail\": {\"type\": \"nominal\", \"field\": \"index\"}, \"opacity\": {\"condition\": {\"value\": 0.6, \"selection\": \"selector005\"}, \"value\": 0.05}, \"x\": {\"type\": \"ordinal\", \"field\": \"key\", \"scale\": {\"nice\": false, \"padding\": 0.05}, \"title\": null}, \"y\": {\"type\": \"quantitative\", \"field\": \"value\", \"title\": null}}, \"selection\": {\"selector005\": {\"type\": \"multi\", \"fields\": [\"Origin\"], \"bind\": \"legend\"}}, \"transform\": [{\"window\": [{\"op\": \"count\", \"as\": \"index\"}]}, {\"fold\": [\"Miles_per_Gallon\", \"Cylinders\", \"Displacement\", \"Horsepower\", \"Weight_in_lbs\", \"Acceleration\"]}], \"width\": 600, \"$schema\": \"https://vega.github.io/schema/vega-lite/v4.8.1.json\"}, {\"mode\": \"vega-lite\"});\n",
       "</script>"
      ],
      "text/plain": [
       "alt.Chart(...)"
      ]
     },
     "execution_count": 11,
     "metadata": {},
     "output_type": "execute_result"
    }
   ],
   "source": [
    "aly.parcoord(data.cars(), 'Origin', rescale='min-max')"
   ]
  }
 ],
 "metadata": {
  "kernelspec": {
   "display_name": "Python 3",
   "language": "python",
   "name": "python3"
  },
  "language_info": {
   "codemirror_mode": {
    "name": "ipython",
    "version": 3
   },
   "file_extension": ".py",
   "mimetype": "text/x-python",
   "name": "python",
   "nbconvert_exporter": "python",
   "pygments_lexer": "ipython3",
   "version": "3.8.6"
  }
 },
 "nbformat": 4,
 "nbformat_minor": 4
}
