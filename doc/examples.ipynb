{
 "cells": [
  {
   "cell_type": "markdown",
   "metadata": {},
   "source": [
    "# Examples\n",
    "\n",
    "Several of these plots have default interactions that you can try out directly on this page."
   ]
  },
  {
   "cell_type": "code",
   "execution_count": null,
   "metadata": {},
   "outputs": [],
   "source": [
    "!pip freeze"
   ]
  },
  {
   "cell_type": "code",
   "execution_count": null,
   "metadata": {},
   "outputs": [],
   "source": [
    "import altair_ally as aly\n",
    "from vega_datasets import data\n",
    "\n",
    "\n",
    "aly.alt.data_transformers.disable_max_rows()\n",
    "\n",
    "movies = (\n",
    "    data\n",
    "    .movies()[data.movies()['MPAA Rating'].isin([\"G\", \"PG\", \"PG-13\", \"R\"])]\n",
    "    .sample(400, random_state=234890)\n",
    "#     .query('`MPAA Rating` in [\"G\", \"PG\", \"PG-13\", \"R\"]')\n",
    "    [['IMDB Votes', 'IMDB Rating', 'Rotten Tomatoes Rating',\n",
    "      'Running Time min', 'MPAA Rating', 'Creative Type']])\n",
    "movies.info()"
   ]
  },
  {
   "cell_type": "markdown",
   "metadata": {},
   "source": [
    "## Missing values\n",
    "\n",
    "A missing value plot can reveal patterns that would influence downstream analysis\n",
    "and upstream wrangling issues.\n",
    "It is also useful to indicate which variables are codependent in the data collection process,\n",
    "such as the IMDB Votes and Ratings in the plot below.\n",
    "\n",
    "Selecting an interval in the heatmap of individual NaNs \n",
    "will automatically update the bar plot with the NaN counts."
   ]
  },
  {
   "cell_type": "code",
   "execution_count": null,
   "metadata": {},
   "outputs": [],
   "source": [
    "aly.nan(movies)"
   ]
  },
  {
   "cell_type": "markdown",
   "metadata": {},
   "source": [
    "## Univariate distributions\n",
    "\n",
    "Distributions are shown as densities by default,\n",
    "and the subplots are laid out in square grids.\n",
    "Densities can be made as areas or lines,\n",
    "and include a rug plot included to indicate the number of observations,\n",
    "since they can be misleadingly smooth even for small datasets."
   ]
  },
  {
   "cell_type": "code",
   "execution_count": null,
   "metadata": {},
   "outputs": [],
   "source": [
    "aly.dist(movies)"
   ]
  },
  {
   "cell_type": "code",
   "execution_count": null,
   "metadata": {},
   "outputs": [],
   "source": []
  },
  {
   "cell_type": "code",
   "execution_count": null,
   "metadata": {},
   "outputs": [],
   "source": [
    "aly.dist(movies, 'MPAA Rating')"
   ]
  },
  {
   "cell_type": "markdown",
   "metadata": {},
   "source": [
    "Histograms can be made with the `'bar'` mark."
   ]
  },
  {
   "cell_type": "code",
   "execution_count": null,
   "metadata": {},
   "outputs": [],
   "source": [
    "aly.dist(movies, mark='bar')"
   ]
  },
  {
   "cell_type": "code",
   "execution_count": null,
   "metadata": {},
   "outputs": [],
   "source": [
    "aly.dist(movies, dtype='object')"
   ]
  },
  {
   "cell_type": "markdown",
   "metadata": {},
   "source": [
    "## Pairwise variable relationships\n",
    "\n",
    "Pairplots (also called scatter plot matrices) gives an overview of the pairwise reationships \n",
    "of all quantitative columns in the data.\n",
    "Selecting in one plot highlights the same points across all subplots."
   ]
  },
  {
   "cell_type": "code",
   "execution_count": null,
   "metadata": {},
   "outputs": [],
   "source": [
    "aly.pair(movies)"
   ]
  },
  {
   "cell_type": "code",
   "execution_count": null,
   "metadata": {},
   "outputs": [],
   "source": [
    "aly.pair(movies, 'MPAA Rating')"
   ]
  },
  {
   "cell_type": "markdown",
   "metadata": {},
   "source": [
    "## Pairwise variable correlation\n",
    "\n",
    "A pairwise correlation plot can complement a pairplot\n",
    "and provide a quantitative measurement of correlation between column pairs.\n",
    "By default the Pearson and Spearman correlations are shown\n",
    "to reveal both linear and monotonic non-linear (exponential, logarithmic, etc) relationships.\n",
    "Note that non of these correlations would pick up more complex \n",
    "column relationships (e.g. quadratic),\n",
    "so it is a good idea to use these in tandem with the pairplot.\n",
    "\n",
    "Hovering over a point shows the exact coefficient\n",
    "and highlights the point across all subplots."
   ]
  },
  {
   "cell_type": "code",
   "execution_count": null,
   "metadata": {},
   "outputs": [],
   "source": [
    "aly.corr(movies)"
   ]
  },
  {
   "cell_type": "markdown",
   "metadata": {},
   "source": [
    "## Parallel coordinates\n",
    "\n",
    "Parallel coordinate plots gives an overview\n",
    "of how individual observations are distributed\n",
    "across all quantitative columns in the data.\n",
    "Coloring by a categorical variable can help reveal groupings in the data\n",
    "and is also effective to qualitatively assess clustering results\n",
    "from using unsupervised learning algorithms.\n",
    "\n",
    "Click the legend to hide and show groups."
   ]
  },
  {
   "cell_type": "code",
   "execution_count": null,
   "metadata": {},
   "outputs": [],
   "source": [
    "aly.parcoord(movies, 'MPAA Rating', rescale='min-max')"
   ]
  }
 ],
 "metadata": {
  "kernelspec": {
   "display_name": "Python 3",
   "language": "python",
   "name": "python3"
  },
  "language_info": {
   "codemirror_mode": {
    "name": "ipython",
    "version": 3
   },
   "file_extension": ".py",
   "mimetype": "text/x-python",
   "name": "python",
   "nbconvert_exporter": "python",
   "pygments_lexer": "ipython3",
   "version": "3.8.6"
  }
 },
 "nbformat": 4,
 "nbformat_minor": 4
}
